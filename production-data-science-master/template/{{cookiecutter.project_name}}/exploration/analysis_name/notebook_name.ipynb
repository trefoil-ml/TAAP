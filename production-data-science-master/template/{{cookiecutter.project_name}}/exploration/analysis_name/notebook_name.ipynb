{
 "cells": [
  {
   "cell_type": "markdown",
   "metadata": {},
   "source": [
    "# *[Title]*\n",
    "\n",
    "**Author:** [{{cookiecutter.author_name}}](https://github.com/{{cookiecutter.author_github_account}}) ([{{cookiecutter.author_email}}](mailto:{{cookiecutter.author_email}}))\n",
    "\n",
    "**Achievement:** *[Short, preferably single-line, statement of what has been accomplished. For example, \"Assuming ... and using ... we show that ...\".]*\n",
    "\n",
    "## Introduction\n",
    "\n",
    "*[Short introduction to this notebook. State motivation, assumptions, method and results in more detail than in the one-line achievement above.]*"
   ]
  },
  {
   "cell_type": "code",
   "execution_count": null,
   "metadata": {},
   "outputs": [],
   "source": [
    "# Imports\n",
    "# -------\n",
    "\n",
    "# Logging\n",
    "import logging\n",
    "from {{cookiecutter.package_name}} import log\n",
    "log.load_yaml_config('../logging.yaml')\n",
    "\n",
    "# Other packages\n",
    "# ..."
   ]
  },
  {
   "cell_type": "code",
   "execution_count": null,
   "metadata": {},
   "outputs": [],
   "source": []
  }
 ],
 "metadata": {
  "kernelspec": {
   "display_name": "titanic",
   "language": "python",
   "name": "titanic"
  },
  "language_info": {
   "codemirror_mode": {
    "name": "ipython",
    "version": 3
   },
   "file_extension": ".py",
   "mimetype": "text/x-python",
   "name": "python",
   "nbconvert_exporter": "python",
   "pygments_lexer": "ipython3",
   "version": "3.6.2"
  }
 },
 "nbformat": 4,
 "nbformat_minor": 2
}
